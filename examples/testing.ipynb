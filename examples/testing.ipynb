{
 "cells": [
  {
   "cell_type": "code",
   "execution_count": null,
   "metadata": {},
   "outputs": [],
   "source": [
    "import hjson\n",
    "from releso.base_parser import BaseParser\n",
    "from releso.geometry import FFDGeometry\n",
    "import os\n",
    "import pathlib\n",
    "import numpy as np"
   ]
  },
  {
   "cell_type": "code",
   "execution_count": null,
   "metadata": {},
   "outputs": [],
   "source": [
    "base_path = pathlib.Path(os.path.abspath(\"\"))\n",
    "json_file = base_path / \"nutils_converging_channel_incremental.hjson\"\n",
    "mesh_file_location = base_path / \"2DChannelTria.msh\""
   ]
  },
  {
   "cell_type": "code",
   "execution_count": null,
   "metadata": {},
   "outputs": [],
   "source": [
    "with open(json_file, \"r\") as j_file:\n",
    "    json_content = hjson.load(j_file)"
   ]
  },
  {
   "cell_type": "code",
   "execution_count": null,
   "metadata": {},
   "outputs": [],
   "source": [
    "json_content[\"environment\"][\"geometry\"][\"save_location\"] = json_content[\"save_location\"]\n",
    "json_content[\"environment\"][\"geometry\"][\"mesh\"][\"path\"] = str(mesh_file_location)\n",
    "parsed = FFDGeometry(**json_content[\"environment\"][\"geometry\"])"
   ]
  },
  {
   "cell_type": "code",
   "execution_count": null,
   "metadata": {},
   "outputs": [],
   "source": [
    "parsed.setup(\"1\")"
   ]
  },
  {
   "cell_type": "code",
   "execution_count": null,
   "metadata": {},
   "outputs": [],
   "source": [
    "import poiseuille_flow_channel_shear_thinning"
   ]
  },
  {
   "cell_type": "code",
   "execution_count": null,
   "metadata": {},
   "outputs": [],
   "source": [
    "domain, geometry = poiseuille_flow_channel_shear_thinning.setup_mesh(mesh_file_location)"
   ]
  },
  {
   "cell_type": "code",
   "execution_count": null,
   "metadata": {},
   "outputs": [],
   "source": [
    "coords = parsed.apply_FFD()\n",
    "geometry = (domain.basis(\"std\", degree=1)[:, np.newaxis] * coords).sum(0)"
   ]
  },
  {
   "cell_type": "code",
   "execution_count": null,
   "metadata": {},
   "outputs": [],
   "source": [
    "namespace = poiseuille_flow_channel_shear_thinning.setup_namespace((domain, geometry))"
   ]
  },
  {
   "cell_type": "code",
   "execution_count": null,
   "metadata": {},
   "outputs": [],
   "source": [
    "ratio, quality_criterion = poiseuille_flow_channel_shear_thinning.compute_quality_criterion(*poiseuille_flow_channel_shear_thinning.run_simulation(\n",
    "        (domain, geometry), namespace\n",
    "    ))"
   ]
  },
  {
   "cell_type": "code",
   "execution_count": null,
   "metadata": {},
   "outputs": [],
   "source": [
    "from nutils import mesh\n",
    "with open(mesh_file_location, \"rb\") as g_fi:\n",
    "    nu_dict = mesh.parsegmsh(g_fi)"
   ]
  },
  {
   "cell_type": "code",
   "execution_count": null,
   "metadata": {},
   "outputs": [],
   "source": [
    "nu_dict[\"coords\"].shape"
   ]
  },
  {
   "cell_type": "code",
   "execution_count": null,
   "metadata": {},
   "outputs": [],
   "source": [
    "geometry = (domain.basis(\"std\", degree=1)[:, np.newaxis] * nu_dict[\"coords\"]).sum(0)"
   ]
  },
  {
   "cell_type": "code",
   "execution_count": null,
   "metadata": {},
   "outputs": [],
   "source": [
    "coords"
   ]
  },
  {
   "cell_type": "code",
   "execution_count": null,
   "metadata": {},
   "outputs": [],
   "source": [
    "nu_dict[\"coords\"]"
   ]
  },
  {
   "cell_type": "code",
   "execution_count": null,
   "metadata": {},
   "outputs": [],
   "source": []
  }
 ],
 "metadata": {
  "kernelspec": {
   "display_name": "installed-releso",
   "language": "python",
   "name": "python3"
  },
  "language_info": {
   "codemirror_mode": {
    "name": "ipython",
    "version": 3
   },
   "file_extension": ".py",
   "mimetype": "text/x-python",
   "name": "python",
   "nbconvert_exporter": "python",
   "pygments_lexer": "ipython3",
   "version": "3.9.15"
  },
  "orig_nbformat": 4,
  "vscode": {
   "interpreter": {
    "hash": "19a3559681bda2c8453fed9ddfd9c495641846f0a4e811430368f134a16941cc"
   }
  }
 },
 "nbformat": 4,
 "nbformat_minor": 2
}
